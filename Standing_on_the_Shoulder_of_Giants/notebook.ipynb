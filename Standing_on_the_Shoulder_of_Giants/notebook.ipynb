{
 "cells": [
  {
   "cell_type": "markdown",
   "metadata": {},
   "source": [
    "# Standing on the Shoulder of Giants"
   ]
  },
  {
   "cell_type": "markdown",
   "metadata": {},
   "source": [
    "Using a Simple Python Live Trading Framework with Zipline Interface"
   ]
  },
  {
   "cell_type": "markdown",
   "metadata": {},
   "source": [
    "**Algorithm & Pipeline Walkthrough**"
   ]
  },
  {
   "cell_type": "code",
   "execution_count": 1,
   "metadata": {},
   "outputs": [],
   "source": [
    "import yaml\n",
    "import os\n",
    "import alpaca_trade_api as tradeapi\n",
    "from alpaca_trade_api.common import URL\n",
    "from alpaca_trade_api.entity import Aggs\n",
    "import pandas as pd\n",
    "\n",
    "def initialize_client():\n",
    "    global CLIENT\n",
    "    with open(\"config.yaml\", mode='r') as f:\n",
    "        o = yaml.safe_load(f)\n",
    "        key = o[\"key_id\"]\n",
    "        secret = o[\"secret\"]\n",
    "        base_url = o[\"base_url\"]\n",
    "        os.environ[\"APCA_API_KEY_ID\"] = key\n",
    "        os.environ[\"APCA_API_SECRET_KEY\"] = secret\n",
    "        os.environ[\"APCA_API_BASE_URL\"] = base_url\n",
    "    CLIENT = tradeapi.REST(key_id=key,\n",
    "                           secret_key=secret,\n",
    "                           base_url=URL(base_url))                \n",
    "\n",
    "initialize_client()      "
   ]
  },
  {
   "cell_type": "code",
   "execution_count": 2,
   "metadata": {},
   "outputs": [],
   "source": [
    "from pylivetrader.api import *\n",
    "from pipeline_live.engine import LivePipelineEngine\n",
    "from pipeline_live.data.sources.alpaca import list_symbols as US_EQUITIES\n",
    "from pipeline_live.data.alpaca.factors import  CustomFactor, Returns\n",
    "from pipeline_live.data.alpaca.pricing import USEquityPricing\n",
    "from zipline.pipeline import Pipeline"
   ]
  },
  {
   "cell_type": "code",
   "execution_count": 3,
   "metadata": {},
   "outputs": [
    {
     "name": "stdout",
     "output_type": "stream",
     "text": [
      "Help on package pylivetrader:\n",
      "\n",
      "NAME\n",
      "    pylivetrader\n",
      "\n",
      "DESCRIPTION\n",
      "    # Copyright 2018 Alpaca\n",
      "    #\n",
      "    # Licensed under the Apache License, Version 2.0 (the \"License\");\n",
      "    # you may not use this file except in compliance with the License.\n",
      "    # You may obtain a copy of the License at\n",
      "    #\n",
      "    #     http://www.apache.org/licenses/LICENSE-2.0\n",
      "    #\n",
      "    # Unless required by applicable law or agreed to in writing, software\n",
      "    # distributed under the License is distributed on an \"AS IS\" BASIS,\n",
      "    # WITHOUT WARRANTIES OR CONDITIONS OF ANY KIND, either express or implied.\n",
      "    # See the License for the specific language governing permissions and\n",
      "    # limitations under the License.\n",
      "\n",
      "PACKAGE CONTENTS\n",
      "    __main__\n",
      "    _version\n",
      "    algorithm\n",
      "    api\n",
      "    assets (package)\n",
      "    backend (package)\n",
      "    data (package)\n",
      "    errors\n",
      "    executor (package)\n",
      "    finance (package)\n",
      "    loader\n",
      "    misc (package)\n",
      "    protocol\n",
      "    shell\n",
      "    statestore (package)\n",
      "    testing (package)\n",
      "\n",
      "FILE\n",
      "    /Users/mw/opt/anaconda3/envs/ziplive/lib/python3.6/site-packages/pylivetrader/__init__.py\n",
      "\n",
      "\n"
     ]
    }
   ],
   "source": [
    "help('pylivetrader')\n",
    "# help('pylivetrader.api')\n",
    "# help('pylivetrader.algorithm')"
   ]
  },
  {
   "cell_type": "markdown",
   "metadata": {},
   "source": [
    "## Getting the Securities we want\n",
    "\n",
    "Groups of tradeable stocks are refered to as \"universes\", because all your trades will use these stocks as their \"universe\" of available stock, they won't be trading with anything outside these groups."
   ]
  },
  {
   "cell_type": "code",
   "execution_count": 4,
   "metadata": {},
   "outputs": [],
   "source": [
    "from pipeline_live.data.alpaca.factors import (SimpleMovingAverage, AverageDollarVolume,)\n",
    "from pipeline_live.data.sources.alpaca import list_symbols as US_EQUITIES\n",
    "eng = LivePipelineEngine(US_EQUITIES)"
   ]
  },
  {
   "cell_type": "code",
   "execution_count": 5,
   "metadata": {},
   "outputs": [],
   "source": [
    "# Dollar volume factor\n",
    "dollar_volume = AverageDollarVolume(window_length=30)\n",
    "\n",
    "# High dollar volume filter\n",
    "high_dollar_volume = dollar_volume.percentile_between(90,100)\n",
    "\n",
    "# Top open price filter (high dollar volume securities)\n",
    "top_open_price = USEquityPricing.open.latest.top(50, mask=high_dollar_volume)\n",
    "\n",
    "# Top percentile close price filter (high dollar volume, top 50 open price)\n",
    "high_close_price = USEquityPricing.close.latest.percentile_between(90, 100, mask=top_open_price)"
   ]
  },
  {
   "cell_type": "markdown",
   "metadata": {},
   "source": [
    "## Applying Filters and Factors\n",
    "\n",
    "Let's apply our own filters, following along with some of the examples above. Let's select the following securities:\n",
    "\n",
    "* US Stocks \n",
    "* They must be relatively highly traded stocks in the market (by dollar volume traded, need to be in the top 5% traded)\n",
    "\n",
    "Then we'll calculate the percent difference as we've done previously. Using this percent difference we'll create an unsophisticated strategy that shorts anything with negative percent difference (the difference between the 10 day mean and the 30 day mean)."
   ]
  },
  {
   "cell_type": "code",
   "execution_count": 6,
   "metadata": {},
   "outputs": [],
   "source": [
    "def make_pipeline():\n",
    "    \n",
    "    # Dollar volume factor\n",
    "    dollar_volume = AverageDollarVolume(window_length=30)\n",
    "\n",
    "    # Top half of dollar volume filter\n",
    "    high_dollar_volume = dollar_volume.percentile_between(95,100)\n",
    "    \n",
    "    # 10-day close price average.\n",
    "    mean_10 = SimpleMovingAverage(inputs=[USEquityPricing.close], window_length=10, mask=high_dollar_volume)\n",
    "\n",
    "    # 30-day close price average.\n",
    "    mean_30 = SimpleMovingAverage(inputs=[USEquityPricing.close], window_length=30, mask=high_dollar_volume)\n",
    "\n",
    "    # Percent difference factor.\n",
    "    percent_difference = (mean_10 - mean_30) / mean_30\n",
    "    \n",
    "    # Create a filter to select securities to short.\n",
    "    shorts = percent_difference < 0\n",
    "    \n",
    "    # Create a filter to select securities to long.\n",
    "    longs = percent_difference > 0\n",
    "    \n",
    "    # Filter for the securities that we want to trade.\n",
    "    securities_to_trade = (shorts | longs)\n",
    "    \n",
    "    return Pipeline(\n",
    "        columns={\n",
    "            'longs': longs,\n",
    "            'shorts': shorts,\n",
    "            'percent_diff':percent_difference\n",
    "        },\n",
    "        screen=securities_to_trade\n",
    "    )"
   ]
  },
  {
   "cell_type": "code",
   "execution_count": 7,
   "metadata": {},
   "outputs": [
    {
     "data": {
      "image/png": "[encoded data removed]",
      "text/plain": [
       "<IPython.core.display.Image object>"
      ]
     },
     "execution_count": 7,
     "metadata": {},
     "output_type": "execute_result"
    }
   ],
   "source": [
    "make_pipeline().show_graph(format='png')"
   ]
  },
  {
   "cell_type": "code",
   "execution_count": 8,
   "metadata": {},
   "outputs": [
    {
     "name": "stdout",
     "output_type": "stream",
     "text": [
      "/Users/mw/.zipline/data/dailycache/alpaca_chart_44: digest mismatch 0695e2a5e2bdc765d54ceec7c10e551b != 11d8d6a265f52dd842a778fff6c76d45, reloading\n"
     ]
    },
    {
     "data": {
      "text/html": [
       "<div>\n",
       "<style scoped>\n",
       "    .dataframe tbody tr th:only-of-type {\n",
       "        vertical-align: middle;\n",
       "    }\n",
       "\n",
       "    .dataframe tbody tr th {\n",
       "        vertical-align: top;\n",
       "    }\n",
       "\n",
       "    .dataframe thead th {\n",
       "        text-align: right;\n",
       "    }\n",
       "</style>\n",
       "<table border=\"1\" class=\"dataframe\">\n",
       "  <thead>\n",
       "    <tr style=\"text-align: right;\">\n",
       "      <th></th>\n",
       "      <th>longs</th>\n",
       "      <th>percent_diff</th>\n",
       "      <th>shorts</th>\n",
       "    </tr>\n",
       "  </thead>\n",
       "  <tbody>\n",
       "    <tr>\n",
       "      <th>A</th>\n",
       "      <td>False</td>\n",
       "      <td>-0.050208</td>\n",
       "      <td>True</td>\n",
       "    </tr>\n",
       "    <tr>\n",
       "      <th>AA</th>\n",
       "      <td>False</td>\n",
       "      <td>-0.166037</td>\n",
       "      <td>True</td>\n",
       "    </tr>\n",
       "    <tr>\n",
       "      <th>AAL</th>\n",
       "      <td>False</td>\n",
       "      <td>-0.000703</td>\n",
       "      <td>True</td>\n",
       "    </tr>\n",
       "    <tr>\n",
       "      <th>AAPL</th>\n",
       "      <td>False</td>\n",
       "      <td>-0.045499</td>\n",
       "      <td>True</td>\n",
       "    </tr>\n",
       "    <tr>\n",
       "      <th>ABBV</th>\n",
       "      <td>False</td>\n",
       "      <td>-0.044210</td>\n",
       "      <td>True</td>\n",
       "    </tr>\n",
       "  </tbody>\n",
       "</table>\n",
       "</div>"
      ],
      "text/plain": [
       "      longs  percent_diff  shorts\n",
       "A     False     -0.050208    True\n",
       "AA    False     -0.166037    True\n",
       "AAL   False     -0.000703    True\n",
       "AAPL  False     -0.045499    True\n",
       "ABBV  False     -0.044210    True"
      ]
     },
     "execution_count": 8,
     "metadata": {},
     "output_type": "execute_result"
    }
   ],
   "source": [
    "results = eng.run_pipeline(make_pipeline())\n",
    "results.dropna(inplace=True)\n",
    "results.head()"
   ]
  },
  {
   "cell_type": "code",
   "execution_count": 9,
   "metadata": {},
   "outputs": [
    {
     "name": "stdout",
     "output_type": "stream",
     "text": [
      "<class 'pandas.core.frame.DataFrame'>\n",
      "Index: 550 entries, A to ZTS\n",
      "Data columns (total 3 columns):\n",
      "longs           550 non-null bool\n",
      "percent_diff    550 non-null float64\n",
      "shorts          550 non-null bool\n",
      "dtypes: bool(2), float64(1)\n",
      "memory usage: 9.7+ KB\n"
     ]
    }
   ],
   "source": [
    "results.info()"
   ]
  },
  {
   "cell_type": "code",
   "execution_count": 10,
   "metadata": {},
   "outputs": [],
   "source": [
    "results.to_csv('long_short_pipeline_results.csv')"
   ]
  }
 ],
 "metadata": {
  "interpreter": {
   "hash": "4d9a2367cf67256f1d10f61e3fe148a43757ed7eb596572718395a1f3e4bc408"
  },
  "kernelspec": {
   "display_name": "Python 3.6.13 ('ziplive')",
   "language": "python",
   "name": "python3"
  },
  "language_info": {
   "codemirror_mode": {
    "name": "ipython",
    "version": 3
   },
   "file_extension": ".py",
   "mimetype": "text/x-python",
   "name": "python",
   "nbconvert_exporter": "python",
   "pygments_lexer": "ipython3",
   "version": "3.6.13"
  },
  "orig_nbformat": 4
 },
 "nbformat": 4,
 "nbformat_minor": 2
}
