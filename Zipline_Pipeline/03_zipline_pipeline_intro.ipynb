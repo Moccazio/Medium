{
 "cells": [
  {
   "cell_type": "markdown",
   "metadata": {},
   "source": [
    "# Zipline Pipeline"
   ]
  },
  {
   "cell_type": "markdown",
   "metadata": {},
   "source": [
    "### Introduction\n",
    "\n",
    "On any given trading day, the entire universe of stocks consists of thousands of securities. Usually, you will not be  interested in investing in all the stocks in the entire universe, but rather, you will likely select only a subset of these to invest. For example, you may only want to invest in stocks that have a 10-day average closing price of \\$10.00 or less. Or you may only want to invest in the top 500 securities ranked by some factor.\n",
    "\n",
    "In order to avoid spending a lot of time doing data wrangling to select only the securities you are interested in, people often use **pipelines**. In general, a pipeline is a placeholder for a series of data operations used to filter and rank data according to some factor or factors. \n",
    "\n",
    "In this notebook, you will learn how to work with the **Zipline Pipeline**. Zipline is an open-source algorithmic trading simulator developed by *Quantopian*. We will learn how to use the Zipline Pipeline to filter stock data according to factors. "
   ]
  },
  {
   "attachments": {},
   "cell_type": "markdown",
   "metadata": {},
   "source": [
    "# Loading Data with Zipline\n",
    "\n",
    "Before we build our pipeline with Zipline, we will first see how we can load the stock data we are going to use into Zipline. Zipline uses **Data Bundles** to make it easy to use different data sources. A data bundle is a collection of pricing data, adjustment data, and an asset database. Zipline employs data bundles to preload data used to run backtests and store data for future runs. Zipline comes with a few data bundles by default but it also has the ability to ingest new bundles. The first step to using a data bundle is to ingest the data. Zipline's ingestion process will start by downloading the data or by loading data files from your local machine. It will then pass the data to a set of writer objects that converts the original data to Zipline’s internal format (`bcolz` for pricing data, and `SQLite` for split/merger/dividend data) that hs been optimized for speed. This new data is written to a standard location that Zipline can find. By default, the new data is written to a subdirectory of `ZIPLINE_ROOT/data/<bundle>`, where `<bundle>` is the name given to the bundle ingested and the subdirectory is named with the current date. This allows Zipline to look at older data and run backtests on older copies of the data. Running a backtest with an old ingestion makes it easier to reproduce backtest results later. "
   ]
  },
  {
   "cell_type": "code",
   "execution_count": 1,
   "metadata": {},
   "outputs": [],
   "source": [
    "import warnings\n",
    "warnings.filterwarnings('ignore')"
   ]
  },
  {
   "cell_type": "code",
   "execution_count": 2,
   "metadata": {},
   "outputs": [],
   "source": [
    "# Specify the bundle name\n",
    "bundle_name = 'csvdir'"
   ]
  },
  {
   "attachments": {},
   "cell_type": "markdown",
   "metadata": {},
   "source": [
    "Once our data bundle and ingest function are registered, we can load our data using the `bundles.load()` function. Since this function loads our previously ingested data, we need to set `ZIPLINE_ROOT` to the path of the most recent ingested data. "
   ]
  },
  {
   "cell_type": "code",
   "execution_count": 3,
   "metadata": {},
   "outputs": [],
   "source": [
    "import os\n",
    "from zipline.data import bundles\n",
    "\n",
    "bundle_data = bundles.load(bundle_name)"
   ]
  },
  {
   "cell_type": "code",
   "execution_count": 4,
   "metadata": {},
   "outputs": [],
   "source": [
    "# trading calender\n",
    "from exchange_calendars import get_calendar\n",
    "trading_calendar = get_calendar('NYSE')"
   ]
  },
  {
   "cell_type": "markdown",
   "metadata": {},
   "source": [
    "# Building an Empty Pipeline\n",
    "\n",
    "Once we have loaded our data, we can start building our Zipline pipeline. We begin by creating an empty Pipeline object using Zipline's `Pipeline` class. A Pipeline object represents a collection of named expressions to be compiled and executed by a Pipeline Engine. The `Pipeline(columns=None, screen=None)` class takes two optional parameters, `columns` and `screen`. The `columns` parameter is a dictionary used to indicate the intial columns to use, and the `screen` parameter is used to setup a screen to exclude unwanted data. \n",
    "\n",
    "In the code below we will create a `screen` for our pipeline using Zipline's built-in `.AverageDollarVolume()` class. We will use the `.AverageDollarVolume()` class to produce a 60-day Average Dollar Volume of closing prices for every stock in our universe. We then use the `.top(10)` attribute to specify that we want to filter down our universe each day to just the top 10 assets. Therefore, this screen will act as a filter to exclude data from our stock universe each day. The average dollar volume is a good first pass filter to avoid illiquid assets."
   ]
  },
  {
   "cell_type": "code",
   "execution_count": 5,
   "metadata": {},
   "outputs": [],
   "source": [
    "from zipline.pipeline import Pipeline\n",
    "from zipline.pipeline.domain import US_EQUITIES\n",
    "from zipline.pipeline.factors import AverageDollarVolume\n",
    "\n",
    "# Create a screen for our Pipeline\n",
    "universe = AverageDollarVolume(window_length = 60).top(10)\n",
    "\n",
    "# Create an empty Pipeline with the given screen\n",
    "pipeline = Pipeline(domain=US_EQUITIES, screen=universe)"
   ]
  },
  {
   "cell_type": "markdown",
   "metadata": {},
   "source": [
    "In the code above we have named our Pipeline object `pipeline` so that we can identify it later when we make computations. Remember a Pipeline is an object that represents computations we would like to perform every day. A freshly-constructed pipeline, like the one we just created, is empty. This means it doesn’t yet know how to compute anything, and it won’t produce any values if we ask for its outputs. In the sections below, we will see how to provide our Pipeline with expressions to compute."
   ]
  },
  {
   "cell_type": "markdown",
   "metadata": {},
   "source": [
    "# Factors and Filters\n",
    "\n",
    "The `.AverageDollarVolume()` class used above is an example of a factor. In this section we will take a look at two types of computations that can be expressed in a pipeline: **Factors** and **Filters**. In general, factors and filters represent functions that produce a value from an asset in a moment in time, but are distinguished by the types of values they produce. Let's start by looking at factors.\n",
    "\n",
    "\n",
    "### Factors\n",
    "\n",
    "In general, a **Factor** is a function from an asset at a particular moment of time to a numerical value. A simple example of a factor is the most recent price of a security. Given a security and a specific moment in time, the most recent price is a number. Another example is the 10-day average trading volume of a security. Factors are most commonly used to assign values to securities which can then be combined with filters or other factors. The fact that you can combine multiple factors makes it easy for you to form new custom factors that can be as complex as you like. For example, constructing a Factor that computes the average of two other Factors can be simply illustrated usingthe pseudocode below:\n",
    "\n",
    "```python\n",
    "f1 = factor1(...)\n",
    "f2 = factor2(...)  \n",
    "average = (f1 + f2) / 2.0  \n",
    "```\n",
    "\n",
    "### Filters\n",
    "\n",
    "In general, a **Filter** is a function from an asset at a particular moment in time to a boolean value (True of False). An example of a filter is a function indicating whether a security's price is below \\$5. Given a security and a specific moment in time, this evaluates to either **True** or **False**. Filters are most commonly used for selecting sets of securities to include or exclude from your stock universe. Filters are usually applied using comparison operators, such as <, <=, !=, ==, >, >=."
   ]
  },
  {
   "cell_type": "markdown",
   "metadata": {},
   "source": [
    "# Viewing the Pipeline as a Diagram\n",
    "\n",
    "Zipline's Pipeline class comes with the attribute `.show_graph()` that allows you to render the Pipeline as a Directed Acyclic Graph (DAG). This graph is specified using the DOT language and consequently we need a DOT graph layout program to view the rendered image. In the code below, we will use the Graphviz pakage to render the graph produced by the `.show_graph()` attribute. Graphviz is an open-source package for drawing graphs specified in DOT language scripts."
   ]
  },
  {
   "cell_type": "code",
   "execution_count": 6,
   "metadata": {},
   "outputs": [
    {
     "data": {
      "image/svg+xml": "<svg xmlns=\"http://www.w3.org/2000/svg\" xmlns:xlink=\"http://www.w3.org/1999/xlink\" width=\"353pt\" height=\"376pt\" viewBox=\"0.00 0.00 353.00 376.00\">\n<g id=\"graph0\" class=\"graph\" transform=\"scale(1 1) rotate(0) translate(4 372)\">\n<title>G</title>\n<polygon fill=\"white\" stroke=\"none\" points=\"-4,4 -4,-372 349,-372 349,4 -4,4\"/>\n<g id=\"clust1\" class=\"cluster\">\n<title>cluster_Output</title>\n<polygon fill=\"#ffec8b\" stroke=\"#ffec8b\" points=\"98,-8 98,-85 246,-85 246,-8 98,-8\"/>\n<text text-anchor=\"middle\" x=\"172\" y=\"-15.8\" font-family=\"Times,serif\" font-size=\"14.00\">Output</text>\n</g>\n<g id=\"clust2\" class=\"cluster\">\n<title>cluster_Input</title>\n<polygon fill=\"#ffec8b\" stroke=\"#ffec8b\" points=\"8,-268 8,-360 337,-360 337,-268 8,-268\"/>\n<text text-anchor=\"middle\" x=\"172.5\" y=\"-344.8\" font-family=\"Times,serif\" font-size=\"14.00\">Input</text>\n</g>\n<!-- 6169770736 -->\n<g id=\"node1\" class=\"node\">\n<title>6169770736</title>\n<polygon fill=\"#ccebc5\" stroke=\"black\" points=\"237.5,-77 106.5,-77 106.5,-39 237.5,-39 237.5,-77\"/>\n<text text-anchor=\"start\" x=\"114.5\" y=\"-61.8\" font-family=\"Times,serif\" font-size=\"14.00\">Expression:</text>\n<text text-anchor=\"start\" x=\"114.5\" y=\"-46.8\" font-family=\"Times,serif\" font-size=\"14.00\">  x_0 &lt;= (1.00E+01)</text>\n</g>\n<!-- 6153723520 -->\n<g id=\"node2\" class=\"node\">\n<title>6153723520</title>\n<polygon fill=\"#fbb4ae\" stroke=\"black\" points=\"328.5,-329 181.5,-329 181.5,-276 328.5,-276 328.5,-329\"/>\n<text text-anchor=\"start\" x=\"189.5\" y=\"-313.8\" font-family=\"Times,serif\" font-size=\"14.00\">BoundColumn:</text>\n<text text-anchor=\"start\" x=\"189.5\" y=\"-298.8\" font-family=\"Times,serif\" font-size=\"14.00\">  Dataset: EquityPricing</text>\n<text text-anchor=\"start\" x=\"189.5\" y=\"-283.8\" font-family=\"Times,serif\" font-size=\"14.00\">  Column: volume</text>\n</g>\n<!-- 4580682912 -->\n<g id=\"node4\" class=\"node\">\n<title>4580682912</title>\n<polygon fill=\"#b3cde3\" stroke=\"black\" points=\"243.5,-240 100.5,-240 100.5,-202 243.5,-202 243.5,-240\"/>\n<text text-anchor=\"start\" x=\"108.5\" y=\"-224.8\" font-family=\"Times,serif\" font-size=\"14.00\">AverageDollarVolume:</text>\n<text text-anchor=\"start\" x=\"108.5\" y=\"-209.8\" font-family=\"Times,serif\" font-size=\"14.00\">  window_length: 60</text>\n</g>\n<!-- 6153723520&#45;&gt;4580682912 -->\n<g id=\"edge4\" class=\"edge\">\n<title>6153723520-&gt;4580682912</title>\n<path fill=\"none\" stroke=\"black\" d=\"M212.5,-275.81C212.5,-275.81 212.5,-251.77 212.5,-251.77\"/>\n<polygon fill=\"black\" stroke=\"black\" points=\"216,-251.77 212.5,-241.77 209,-251.77 216,-251.77\"/>\n</g>\n<!-- 6153721072 -->\n<g id=\"node3\" class=\"node\">\n<title>6153721072</title>\n<polygon fill=\"#fbb4ae\" stroke=\"black\" points=\"163.5,-329 16.5,-329 16.5,-276 163.5,-276 163.5,-329\"/>\n<text text-anchor=\"start\" x=\"24.5\" y=\"-313.8\" font-family=\"Times,serif\" font-size=\"14.00\">BoundColumn:</text>\n<text text-anchor=\"start\" x=\"24.5\" y=\"-298.8\" font-family=\"Times,serif\" font-size=\"14.00\">  Dataset: EquityPricing</text>\n<text text-anchor=\"start\" x=\"24.5\" y=\"-283.8\" font-family=\"Times,serif\" font-size=\"14.00\">  Column: close</text>\n</g>\n<!-- 6153721072&#45;&gt;4580682912 -->\n<g id=\"edge3\" class=\"edge\">\n<title>6153721072-&gt;4580682912</title>\n<path fill=\"none\" stroke=\"black\" d=\"M132,-275.81C132,-275.81 132,-251.77 132,-251.77\"/>\n<polygon fill=\"black\" stroke=\"black\" points=\"135.5,-251.77 132,-241.77 128.5,-251.77 135.5,-251.77\"/>\n</g>\n<!-- 6169771696 -->\n<g id=\"node5\" class=\"node\">\n<title>6169771696</title>\n<polygon fill=\"#b3cde3\" stroke=\"black\" points=\"233.5,-166 110.5,-166 110.5,-113 233.5,-113 233.5,-166\"/>\n<text text-anchor=\"start\" x=\"118.5\" y=\"-150.8\" font-family=\"Times,serif\" font-size=\"14.00\">Rank:</text>\n<text text-anchor=\"start\" x=\"118.5\" y=\"-135.8\" font-family=\"Times,serif\" font-size=\"14.00\">  method: 'ordinal'</text>\n<text text-anchor=\"start\" x=\"118.5\" y=\"-120.8\" font-family=\"Times,serif\" font-size=\"14.00\">  mask: AssetExists</text>\n</g>\n<!-- 4580682912&#45;&gt;6169771696 -->\n<g id=\"edge2\" class=\"edge\">\n<title>4580682912-&gt;6169771696</title>\n<path fill=\"none\" stroke=\"black\" d=\"M172,-201.69C172,-201.69 172,-177.9 172,-177.9\"/>\n<polygon fill=\"black\" stroke=\"black\" points=\"175.5,-177.9 172,-167.9 168.5,-177.9 175.5,-177.9\"/>\n</g>\n<!-- 6169771696&#45;&gt;6169770736 -->\n<g id=\"edge1\" class=\"edge\">\n<title>6169771696-&gt;6169770736</title>\n<path fill=\"none\" stroke=\"black\" d=\"M172,-112.81C172,-112.81 172,-88.77 172,-88.77\"/>\n<polygon fill=\"black\" stroke=\"black\" points=\"175.5,-88.77 172,-78.77 168.5,-88.77 175.5,-88.77\"/>\n</g>\n</g>\n</svg>",
      "text/plain": [
       "<IPython.core.display.SVG object>"
      ]
     },
     "execution_count": 6,
     "metadata": {},
     "output_type": "execute_result"
    }
   ],
   "source": [
    "#import graphviz\n",
    "\n",
    "# Render the pipeline as a DAG\n",
    "pipeline.show_graph()"
   ]
  },
  {
   "cell_type": "markdown",
   "metadata": {},
   "source": [
    "Right now, our pipeline is empty and it only contains a screen. Therefore, when we rendered our `pipeline`, we only see the diagram of our `screen`:\n",
    "\n",
    "```python\n",
    "AverageDollarVolume(window_length = 60).top(10)\n",
    "```\n",
    "\n",
    "By default, the `.AverageDollarVolume()` class uses the `USEquityPricing` dataset, containing daily trading prices and volumes, to compute the average dollar volume:\n",
    "\n",
    "```python\n",
    "average_dollar_volume = np.nansum(close_price * volume, axis=0) / len(close_price)\n",
    "```\n",
    "The top of the diagram reflects the fact that the `.AverageDollarVolume()` class gets its inputs (closing price and volume) from the `USEquityPricing` dataset. The bottom of the diagram shows that the output is determined by the expression `x_0 <= 10`. This expression reflects the fact that we used `.top(10)` as a filter in our `screen`. We refer to each box in the diagram as a Term. "
   ]
  },
  {
   "attachments": {},
   "cell_type": "markdown",
   "metadata": {},
   "source": [
    "# Datasets and Dataloaders               \n",
    "\n",
    "One of the features of Zipline's Pipeline is that it separates the actual source of the stock data from the abstract description of that dataset. Therefore, Zipline employs **DataSets** and **Loaders** for those datasets. `DataSets` are just abstract collections of sentinel values describing the columns/types for a particular dataset.  While a `loader` is an object which, given a request for a particular chunk of a dataset, can actually get the requested data. For example, the loader used for the `USEquityPricing` dataset, is the `USEquityPricingLoader` class. The `USEquityPricingLoader` class will delegate the loading of baselines and adjustments to lower-level subsystems that know how to get the pricing data in the default formats used by Zipline (`bcolz` for pricing data, and `SQLite` for split/merger/dividend data). As we saw in the beginning of this notebook, data bundles automatically convert the stock data into `bcolz` and `SQLite` formats. It is important to note that the `USEquityPricingLoader` class can also be used to load daily OHLCV data from other datasets, not just from the `USEquityPricing` dataset. Simliarly, it is also  possible to write different loaders for the same dataset and use those instead of the default loader. Zipline contains lots of other loaders to allow you to load data from different datasets.\n",
    "\n",
    "In the code below, we will use `USEquityPricingLoader(BcolzDailyBarWriter, SQLiteAdjustmentWriter)` to create a loader from a `bcolz` equity pricing directory and a `SQLite` adjustments path. Both the `BcolzDailyBarWriter` and `SQLiteAdjustmentWriter` determine the path of the pricing and adjustment data. Since we will be using the CSVDIR data bundle, we will use the `bundle_data.equity_daily_bar_reader` and the `bundle_data.adjustment_reader` as our `BcolzDailyBarWriter` and `SQLiteAdjustmentWriter`, respectively."
   ]
  },
  {
   "cell_type": "code",
   "execution_count": 7,
   "metadata": {},
   "outputs": [],
   "source": [
    "from zipline.assets._assets import Equity  # Required for USEquityPricing\n",
    "from zipline.pipeline.data import USEquityPricing\n",
    "from zipline.pipeline.classifiers import Classifier\n",
    "from zipline.pipeline.engine import SimplePipelineEngine\n",
    "from zipline.pipeline.loaders import USEquityPricingLoader\n",
    "from zipline.utils.numpy_utils import int64_dtype\n",
    "from zipline.data.data_portal import DataPortal"
   ]
  },
  {
   "cell_type": "code",
   "execution_count": 8,
   "metadata": {},
   "outputs": [],
   "source": [
    "# Set the dataloader\n",
    "pricing_loader = USEquityPricingLoader.without_fx(bundle_data.equity_daily_bar_reader,bundle_data.adjustment_reader)"
   ]
  },
  {
   "attachments": {},
   "cell_type": "markdown",
   "metadata": {},
   "source": [
    "# Pipeline Engine\n",
    "\n",
    "Zipline employs computation engines for executing Pipelines. In the code below we will use Zipline's `SimplePipelineEngine()` class as the engine to execute our pipeline. The `SimplePipelineEngine(get_loader, calendar, asset_finder)` class associates the chosen data loader with the corresponding dataset and a trading calendar. The `get_loader` parameter must be a callable function that is given a loadable term and returns a `PipelineLoader` to use to retrieve the raw data for that term in the pipeline. In our case, we will be using the `pricing_loader` defined above, we therefore, create a function called `choose_loader` that returns our `pricing_loader`. The function also checks that the data that is being requested corresponds to OHLCV data, otherwise it retunrs an error. The `calendar` parameter must be a `DatetimeIndex` array of dates to consider as trading days when computing a range between a fixed `start_date` and `end_date`. In our case, we will be using the same trading days as those used in the NYSE. We will use exchange calenders (used to be a Zipline Function) `get_calendar('NYSE')` function to retrieve the trading days used by the NYSE. We then use the `.all_sessions` attribute to get the `DatetimeIndex` from our `trading_calendar` and pass it to the `calendar` parameter. Finally, the `asset_finder` parameter determines which assets are in the top-level universe of our stock data at any point in time. Since we are using the CSVDIR data bundle, we set this parameter to the `bundle_data.asset_finder`."
   ]
  },
  {
   "cell_type": "code",
   "execution_count": 9,
   "metadata": {},
   "outputs": [],
   "source": [
    "from zipline.pipeline.data import USEquityPricing\n",
    "from zipline.pipeline.engine import SimplePipelineEngine\n",
    "\n",
    "# Define the function for the get_loader parameter\n",
    "def choose_loader(column):\n",
    "    if column not in USEquityPricing.columns:\n",
    "        raise Exception('Column not in USEquityPricing')\n",
    "    return pricing_loader\n",
    "\n",
    "# Set the trading calendar\n",
    "trading_calendar = get_calendar('NYSE')\n",
    "\n",
    "# Create a Pipeline engine\n",
    "engine = SimplePipelineEngine(get_loader = choose_loader,\n",
    "                              asset_finder = bundle_data.asset_finder)"
   ]
  },
  {
   "cell_type": "markdown",
   "metadata": {},
   "source": [
    "# Running a Pipeline\n",
    "\n",
    "Once we have chosen our engine we are ready to run or execute our pipeline. We can run our pipeline by using the `.run_pipeline()` attribute of the `SimplePipelineEngine` class. In particular, the `SimplePipelineEngine.run_pipeline(pipeline, start_date, end_date)` implements the following algorithm for executing pipelines:\n",
    "\n",
    "\n",
    "1. Build a dependency graph of all terms in the `pipeline`. In this step, the graph is sorted topologically to determine the order in which we can compute the terms.\n",
    "\n",
    "\n",
    "2. Ask our AssetFinder for a “lifetimes matrix”, which should contain, for each date between `start_date` and `end_date`, a boolean value for each known asset indicating whether the asset existed on that date.\n",
    "\n",
    "\n",
    "3. Compute each term in the dependency order determined in step 1, caching the results in a a dictionary so that they can be fed into future terms.\n",
    "\n",
    "\n",
    "4. For each date, determine the number of assets passing the `pipeline` screen. The sum, $N$, of all these values is the total number of rows in our output Pandas Dataframe, so we pre-allocate an output array of length $N$ for each factor in terms.\n",
    "\n",
    "\n",
    "5. Fill in the arrays allocated in step 4 by copying computed values from our output cache into the corresponding rows.\n",
    "\n",
    "\n",
    "6. Stick the values computed in step 5 into a Pandas DataFrame and return it.\n",
    "\n",
    "In the code below, we run our pipeline for a single day, so our `start_date` and `end_date` will be the same. We then print some information about our `pipeline_output`."
   ]
  },
  {
   "cell_type": "code",
   "execution_count": 10,
   "metadata": {},
   "outputs": [
    {
     "name": "stdout",
     "output_type": "stream",
     "text": [
      "The pipeline output has type: <class 'pandas.core.frame.DataFrame'> \n",
      "\n",
      "Is the pipeline output a MultiIndex Dataframe: Index([  Equity(0 [AAPL]),    Equity(9 [AMD]),  Equity(11 [AMZN]),\n",
      "        Equity(45 [GOOG]), Equity(46 [GOOGL]),  Equity(64 [META]),\n",
      "        Equity(68 [MSFT]),  Equity(70 [NFLX]),  Equity(71 [NVDA]),\n",
      "        Equity(91 [TSLA])],\n",
      "      dtype='object') \n",
      "\n"
     ]
    }
   ],
   "source": [
    "import pandas as pd\n",
    "\n",
    "# Set the start and end dates\n",
    "start_date = pd.Timestamp('2023-01-05', tz = 'utc')\n",
    "end_date = pd.Timestamp('2023-01-05', tz = 'utc')\n",
    "\n",
    "# Run our pipeline for the given start and end dates\n",
    "pipeline_output = engine.run_pipeline(pipeline, start_date, end_date)\n",
    "\n",
    "# We print information about the pipeline output\n",
    "print('The pipeline output has type:', type(pipeline_output), '\\n')\n",
    "\n",
    "# We print whether the pipeline output is a MultiIndex Dataframe\n",
    "print('Is the pipeline output a MultiIndex Dataframe:', pipeline_output.index.get_level_values(1), '\\n')\n"
   ]
  },
  {
   "cell_type": "markdown",
   "metadata": {},
   "source": [
    "We can see above that the return value of `.run_pipeline()` is a `MultiIndex` Pandas DataFrame containing a row for each asset that passed our pipeline’s screen. We can also see that the 0th level of the index contains the date and the 1st level of the index contains the tickers. In general, the returned Pandas DataFrame will also contain a column for each factor and filter we add to the pipeline using  `Pipeline.add()`. At this point we haven't added any factors or filters to our pipeline, consequently, the Pandas Dataframe will have no columns. In the following sections we will see how to add factors and filters to our pipeline."
   ]
  },
  {
   "cell_type": "markdown",
   "metadata": {},
   "source": [
    "# Get Tickers\n",
    "\n",
    "We saw in the previous section, that the tickers of the stocks that passed our pipeline’s screen are contained in the 1st level of the index. Therefore, we can use the Pandas `.get_level_values(1).values.tolist()` method to get the tickers of those stocks and save them to a list."
   ]
  },
  {
   "cell_type": "code",
   "execution_count": 11,
   "metadata": {},
   "outputs": [
    {
     "data": {
      "text/plain": [
       "[Equity(0 [AAPL]),\n",
       " Equity(9 [AMD]),\n",
       " Equity(11 [AMZN]),\n",
       " Equity(45 [GOOG]),\n",
       " Equity(46 [GOOGL]),\n",
       " Equity(64 [META]),\n",
       " Equity(68 [MSFT]),\n",
       " Equity(70 [NFLX]),\n",
       " Equity(71 [NVDA]),\n",
       " Equity(91 [TSLA])]"
      ]
     },
     "execution_count": 11,
     "metadata": {},
     "output_type": "execute_result"
    }
   ],
   "source": [
    "# Get the values in index level 1 and save them to a list\n",
    "universe_tickers = pipeline_output.index.get_level_values(1).values.tolist()\n",
    "\n",
    "# Display the tickers\n",
    "universe_tickers"
   ]
  },
  {
   "attachments": {},
   "cell_type": "markdown",
   "metadata": {},
   "source": [
    "# Get Data\n",
    "\n",
    "Now that we have the tickers for the stocks that passed our pipeline’s screen, we can get the historical stock data for those tickers from our data bundle. In order to get the historical data we need to use Zipline's `DataPortal` class. A `DataPortal` is an interface to all of the data that a Zipline simulation needs. In the code below, we will create a `DataPortal` and `get_pricing` function to get historical stock prices for our tickers. "
   ]
  },
  {
   "cell_type": "code",
   "execution_count": 12,
   "metadata": {},
   "outputs": [],
   "source": [
    "from zipline.data.data_portal import DataPortal\n",
    "\n",
    "\n",
    "data_portal = DataPortal(bundle_data.asset_finder,\n",
    "                             trading_calendar=bundle_data.equity_daily_bar_reader.trading_calendar,\n",
    "                             first_trading_day=bundle_data.equity_daily_bar_reader.first_trading_day,\n",
    "                             equity_daily_reader=bundle_data.equity_daily_bar_reader,\n",
    "                             adjustment_reader=bundle_data.adjustment_reader)"
   ]
  },
  {
   "cell_type": "markdown",
   "metadata": {},
   "source": [
    "Now that we have created a `data_portal` we will create a helper function, `get_pricing`, that gets the historical data from the `data_portal` for a given set of `start_date` and `end_date`. The `get_pricing` function takes various parameters: \n",
    "\n",
    "```python\n",
    "def get_pricing(data_portal, trading_calendar, assets, start_date, end_date, field='close')\n",
    "```\n",
    "\n",
    "\n",
    "The first two parameters, `data_portal` and `trading_calendar`, have already been defined above. The third paramter, `assets`, is a list of tickers. In our case we will use the tickers from the output of our pipeline, namely, `universe_tickers`. The fourth and fifth parameters are strings specifying the `start_date` and `end_date`. The function converts these two strings into Timestamps with a Custom Business Day frequency. The last parameter, `field`, is a string used to indicate which field to return. In our case we want to get the closing price, so we set `field='close`. \n",
    "\n",
    "The function returns the historical stock price data using the `.get_history_window()` attribute of the `DataPortal` class. This attribute returns a Pandas Dataframe containing the requested history window with the data fully adjusted. The `bar_count` parameter is an integer indicating the number of days to return. The number of days determines the number of rows of the returned dataframe. Both the `frequency` and `data_frequency` parameters are strings that indicate the frequency of the data to query, *i.e.* whether the data is in `daily` or `minute` intervals."
   ]
  },
  {
   "cell_type": "code",
   "execution_count": 13,
   "metadata": {},
   "outputs": [
    {
     "data": {
      "text/html": [
       "<div>\n",
       "<style scoped>\n",
       "    .dataframe tbody tr th:only-of-type {\n",
       "        vertical-align: middle;\n",
       "    }\n",
       "\n",
       "    .dataframe tbody tr th {\n",
       "        vertical-align: top;\n",
       "    }\n",
       "\n",
       "    .dataframe thead th {\n",
       "        text-align: right;\n",
       "    }\n",
       "</style>\n",
       "<table border=\"1\" class=\"dataframe\">\n",
       "  <thead>\n",
       "    <tr style=\"text-align: right;\">\n",
       "      <th></th>\n",
       "      <th>Equity(0 [AAPL])</th>\n",
       "      <th>Equity(9 [AMD])</th>\n",
       "      <th>Equity(11 [AMZN])</th>\n",
       "      <th>Equity(45 [GOOG])</th>\n",
       "      <th>Equity(46 [GOOGL])</th>\n",
       "      <th>Equity(64 [META])</th>\n",
       "      <th>Equity(68 [MSFT])</th>\n",
       "      <th>Equity(70 [NFLX])</th>\n",
       "      <th>Equity(71 [NVDA])</th>\n",
       "      <th>Equity(91 [TSLA])</th>\n",
       "    </tr>\n",
       "  </thead>\n",
       "  <tbody>\n",
       "    <tr>\n",
       "      <th>2011-01-06</th>\n",
       "      <td>11.919</td>\n",
       "      <td>8.69</td>\n",
       "      <td>9.293</td>\n",
       "      <td>15.280</td>\n",
       "      <td>15.353</td>\n",
       "      <td>NaN</td>\n",
       "      <td>28.82</td>\n",
       "      <td>25.427</td>\n",
       "      <td>4.832</td>\n",
       "      <td>1.859</td>\n",
       "    </tr>\n",
       "    <tr>\n",
       "      <th>2011-01-07</th>\n",
       "      <td>12.004</td>\n",
       "      <td>8.83</td>\n",
       "      <td>9.274</td>\n",
       "      <td>15.353</td>\n",
       "      <td>15.426</td>\n",
       "      <td>NaN</td>\n",
       "      <td>28.60</td>\n",
       "      <td>25.614</td>\n",
       "      <td>4.968</td>\n",
       "      <td>1.883</td>\n",
       "    </tr>\n",
       "    <tr>\n",
       "      <th>2011-01-10</th>\n",
       "      <td>12.230</td>\n",
       "      <td>9.19</td>\n",
       "      <td>9.234</td>\n",
       "      <td>15.298</td>\n",
       "      <td>15.371</td>\n",
       "      <td>NaN</td>\n",
       "      <td>28.22</td>\n",
       "      <td>26.840</td>\n",
       "      <td>5.157</td>\n",
       "      <td>1.897</td>\n",
       "    </tr>\n",
       "    <tr>\n",
       "      <th>2011-01-11</th>\n",
       "      <td>12.201</td>\n",
       "      <td>8.36</td>\n",
       "      <td>9.217</td>\n",
       "      <td>15.343</td>\n",
       "      <td>15.416</td>\n",
       "      <td>NaN</td>\n",
       "      <td>28.11</td>\n",
       "      <td>26.664</td>\n",
       "      <td>5.077</td>\n",
       "      <td>1.797</td>\n",
       "    </tr>\n",
       "    <tr>\n",
       "      <th>2011-01-12</th>\n",
       "      <td>12.301</td>\n",
       "      <td>8.39</td>\n",
       "      <td>9.204</td>\n",
       "      <td>15.364</td>\n",
       "      <td>15.437</td>\n",
       "      <td>NaN</td>\n",
       "      <td>28.55</td>\n",
       "      <td>26.986</td>\n",
       "      <td>5.838</td>\n",
       "      <td>1.797</td>\n",
       "    </tr>\n",
       "    <tr>\n",
       "      <th>...</th>\n",
       "      <td>...</td>\n",
       "      <td>...</td>\n",
       "      <td>...</td>\n",
       "      <td>...</td>\n",
       "      <td>...</td>\n",
       "      <td>...</td>\n",
       "      <td>...</td>\n",
       "      <td>...</td>\n",
       "      <td>...</td>\n",
       "      <td>...</td>\n",
       "    </tr>\n",
       "    <tr>\n",
       "      <th>2022-12-29</th>\n",
       "      <td>129.610</td>\n",
       "      <td>64.82</td>\n",
       "      <td>84.180</td>\n",
       "      <td>88.950</td>\n",
       "      <td>88.450</td>\n",
       "      <td>120.26</td>\n",
       "      <td>241.01</td>\n",
       "      <td>291.120</td>\n",
       "      <td>146.030</td>\n",
       "      <td>121.820</td>\n",
       "    </tr>\n",
       "    <tr>\n",
       "      <th>2022-12-30</th>\n",
       "      <td>129.930</td>\n",
       "      <td>64.77</td>\n",
       "      <td>84.000</td>\n",
       "      <td>88.730</td>\n",
       "      <td>88.230</td>\n",
       "      <td>120.34</td>\n",
       "      <td>239.82</td>\n",
       "      <td>294.880</td>\n",
       "      <td>146.140</td>\n",
       "      <td>123.180</td>\n",
       "    </tr>\n",
       "    <tr>\n",
       "      <th>2023-01-03</th>\n",
       "      <td>125.070</td>\n",
       "      <td>64.02</td>\n",
       "      <td>85.820</td>\n",
       "      <td>89.700</td>\n",
       "      <td>89.120</td>\n",
       "      <td>124.74</td>\n",
       "      <td>239.58</td>\n",
       "      <td>294.950</td>\n",
       "      <td>143.150</td>\n",
       "      <td>108.100</td>\n",
       "    </tr>\n",
       "    <tr>\n",
       "      <th>2023-01-04</th>\n",
       "      <td>126.360</td>\n",
       "      <td>64.66</td>\n",
       "      <td>85.140</td>\n",
       "      <td>88.710</td>\n",
       "      <td>88.080</td>\n",
       "      <td>127.37</td>\n",
       "      <td>229.10</td>\n",
       "      <td>309.410</td>\n",
       "      <td>147.490</td>\n",
       "      <td>113.640</td>\n",
       "    </tr>\n",
       "    <tr>\n",
       "      <th>2023-01-05</th>\n",
       "      <td>125.020</td>\n",
       "      <td>62.33</td>\n",
       "      <td>83.120</td>\n",
       "      <td>86.770</td>\n",
       "      <td>86.200</td>\n",
       "      <td>126.94</td>\n",
       "      <td>222.31</td>\n",
       "      <td>309.700</td>\n",
       "      <td>142.650</td>\n",
       "      <td>110.340</td>\n",
       "    </tr>\n",
       "  </tbody>\n",
       "</table>\n",
       "<p>3020 rows × 10 columns</p>\n",
       "</div>"
      ],
      "text/plain": [
       "            Equity(0 [AAPL])  Equity(9 [AMD])  Equity(11 [AMZN])  \\\n",
       "2011-01-06            11.919             8.69              9.293   \n",
       "2011-01-07            12.004             8.83              9.274   \n",
       "2011-01-10            12.230             9.19              9.234   \n",
       "2011-01-11            12.201             8.36              9.217   \n",
       "2011-01-12            12.301             8.39              9.204   \n",
       "...                      ...              ...                ...   \n",
       "2022-12-29           129.610            64.82             84.180   \n",
       "2022-12-30           129.930            64.77             84.000   \n",
       "2023-01-03           125.070            64.02             85.820   \n",
       "2023-01-04           126.360            64.66             85.140   \n",
       "2023-01-05           125.020            62.33             83.120   \n",
       "\n",
       "            Equity(45 [GOOG])  Equity(46 [GOOGL])  Equity(64 [META])  \\\n",
       "2011-01-06             15.280              15.353                NaN   \n",
       "2011-01-07             15.353              15.426                NaN   \n",
       "2011-01-10             15.298              15.371                NaN   \n",
       "2011-01-11             15.343              15.416                NaN   \n",
       "2011-01-12             15.364              15.437                NaN   \n",
       "...                       ...                 ...                ...   \n",
       "2022-12-29             88.950              88.450             120.26   \n",
       "2022-12-30             88.730              88.230             120.34   \n",
       "2023-01-03             89.700              89.120             124.74   \n",
       "2023-01-04             88.710              88.080             127.37   \n",
       "2023-01-05             86.770              86.200             126.94   \n",
       "\n",
       "            Equity(68 [MSFT])  Equity(70 [NFLX])  Equity(71 [NVDA])  \\\n",
       "2011-01-06              28.82             25.427              4.832   \n",
       "2011-01-07              28.60             25.614              4.968   \n",
       "2011-01-10              28.22             26.840              5.157   \n",
       "2011-01-11              28.11             26.664              5.077   \n",
       "2011-01-12              28.55             26.986              5.838   \n",
       "...                       ...                ...                ...   \n",
       "2022-12-29             241.01            291.120            146.030   \n",
       "2022-12-30             239.82            294.880            146.140   \n",
       "2023-01-03             239.58            294.950            143.150   \n",
       "2023-01-04             229.10            309.410            147.490   \n",
       "2023-01-05             222.31            309.700            142.650   \n",
       "\n",
       "            Equity(91 [TSLA])  \n",
       "2011-01-06              1.859  \n",
       "2011-01-07              1.883  \n",
       "2011-01-10              1.897  \n",
       "2011-01-11              1.797  \n",
       "2011-01-12              1.797  \n",
       "...                       ...  \n",
       "2022-12-29            121.820  \n",
       "2022-12-30            123.180  \n",
       "2023-01-03            108.100  \n",
       "2023-01-04            113.640  \n",
       "2023-01-05            110.340  \n",
       "\n",
       "[3020 rows x 10 columns]"
      ]
     },
     "execution_count": 13,
     "metadata": {},
     "output_type": "execute_result"
    }
   ],
   "source": [
    "def get_pricing(data_portal, trading_calendar, assets, start_date, end_date, field='close'):\n",
    "    \n",
    "    # Set the given start and end dates to Timestamps. The frequency string C is used to\n",
    "    # indicate that a CustomBusinessDay DateOffset is used\n",
    "    end_dt = pd.Timestamp(end_date, tz='UTC', freq='C')\n",
    "    start_dt = pd.Timestamp(start_date, tz='UTC', freq='C')\n",
    "\n",
    "    # Get the locations of the start and end dates\n",
    "    end_loc = trading_calendar.closes.index.get_loc(end_dt)\n",
    "    start_loc = trading_calendar.closes.index.get_loc(start_dt)\n",
    "\n",
    "    # return the historical data for the given window\n",
    "    return data_portal.get_history_window(assets=assets, end_dt=end_dt, bar_count=end_loc - start_loc,\n",
    "                                          frequency='1d',\n",
    "                                          field=field,\n",
    "                                          data_frequency='daily')\n",
    "\n",
    "# Get the historical data for the given window\n",
    "historical_data = get_pricing(data_portal, trading_calendar, universe_tickers,\n",
    "                              start_date='2011-01-05', end_date='2023-01-05')\n",
    "# Display the historical data\n",
    "historical_data"
   ]
  },
  {
   "cell_type": "markdown",
   "metadata": {},
   "source": [
    "# Date Alignment\n",
    "\n",
    "When pipeline returns with a date of, e.g., `2016-01-07` this includes data that would be known as of before the **market open** on `2016-01-07`. As such, if you ask for latest known values on each day, it will return the closing price from the day before and label the date `2016-01-07`. All factor values assume to be run prior to the open on the labeled day with data known before that point in time."
   ]
  },
  {
   "cell_type": "markdown",
   "metadata": {},
   "source": [
    "# Adding Factors and Filters\n",
    "\n",
    "Now that you know how build a pipeline and execute it, in this section we will see how we can add factors and filters to our pipeline. These factors and filters will determine the computations we want our pipeline to compute each day.\n",
    "\n",
    "We can add both factors and filters to our pipeline using the `.add(column, name)` method of the `Pipeline` class. The `column` parameter represetns the factor or filter to add to the pipeline. The `name` parameter is a string that determines the name of the column in the output Pandas Dataframe for that factor of fitler. As mentioned earlier, each factor and filter will appear as a column in the output dataframe of our pipeline. Let's start by adding a factor to our pipeline.\n",
    "\n",
    "### Factors\n",
    "\n",
    "In the code below, we will use Zipline's built-in `SimpleMovingAverage` factor to create a factor that computes the 15-day mean closing price of securities. We will then add this factor to our pipeline and use `.show_graph()` to see a diagram of our pipeline with the factor added. "
   ]
  },
  {
   "cell_type": "code",
   "execution_count": 14,
   "metadata": {},
   "outputs": [
    {
     "data": {
      "image/svg+xml": "<svg xmlns=\"http://www.w3.org/2000/svg\" xmlns:xlink=\"http://www.w3.org/1999/xlink\" width=\"518pt\" height=\"376pt\" viewBox=\"0.00 0.00 518.00 376.00\">\n<g id=\"graph0\" class=\"graph\" transform=\"scale(1 1) rotate(0) translate(4 372)\">\n<title>G</title>\n<polygon fill=\"white\" stroke=\"none\" points=\"-4,4 -4,-372 514,-372 514,4 -4,4\"/>\n<g id=\"clust1\" class=\"cluster\">\n<title>cluster_Output</title>\n<polygon fill=\"#ffec8b\" stroke=\"#ffec8b\" points=\"185,-8 185,-85 500,-85 500,-8 185,-8\"/>\n<text text-anchor=\"middle\" x=\"342.5\" y=\"-15.8\" font-family=\"Times,serif\" font-size=\"14.00\">Output</text>\n</g>\n<g id=\"clust2\" class=\"cluster\">\n<title>cluster_Input</title>\n<polygon fill=\"#ffec8b\" stroke=\"#ffec8b\" points=\"8,-268 8,-360 502,-360 502,-268 8,-268\"/>\n<text text-anchor=\"middle\" x=\"255\" y=\"-344.8\" font-family=\"Times,serif\" font-size=\"14.00\">Input</text>\n</g>\n<!-- 6170807696 -->\n<g id=\"node1\" class=\"node\">\n<title>6170807696</title>\n<polygon fill=\"#b3cde3\" stroke=\"black\" points=\"491.5,-77 342.5,-77 342.5,-39 491.5,-39 491.5,-77\"/>\n<text text-anchor=\"start\" x=\"350.5\" y=\"-61.8\" font-family=\"Times,serif\" font-size=\"14.00\">SimpleMovingAverage:</text>\n<text text-anchor=\"start\" x=\"350.5\" y=\"-46.8\" font-family=\"Times,serif\" font-size=\"14.00\">  window_length: 15</text>\n</g>\n<!-- 6169770736 -->\n<g id=\"node2\" class=\"node\">\n<title>6169770736</title>\n<polygon fill=\"#ccebc5\" stroke=\"black\" points=\"324.5,-77 193.5,-77 193.5,-39 324.5,-39 324.5,-77\"/>\n<text text-anchor=\"start\" x=\"201.5\" y=\"-61.8\" font-family=\"Times,serif\" font-size=\"14.00\">Expression:</text>\n<text text-anchor=\"start\" x=\"201.5\" y=\"-46.8\" font-family=\"Times,serif\" font-size=\"14.00\">  x_0 &lt;= (1.00E+01)</text>\n</g>\n<!-- 6153723520 -->\n<g id=\"node3\" class=\"node\">\n<title>6153723520</title>\n<polygon fill=\"#fbb4ae\" stroke=\"black\" points=\"328.5,-329 181.5,-329 181.5,-276 328.5,-276 328.5,-329\"/>\n<text text-anchor=\"start\" x=\"189.5\" y=\"-313.8\" font-family=\"Times,serif\" font-size=\"14.00\">BoundColumn:</text>\n<text text-anchor=\"start\" x=\"189.5\" y=\"-298.8\" font-family=\"Times,serif\" font-size=\"14.00\">  Dataset: EquityPricing</text>\n<text text-anchor=\"start\" x=\"189.5\" y=\"-283.8\" font-family=\"Times,serif\" font-size=\"14.00\">  Column: volume</text>\n</g>\n<!-- 4580682912 -->\n<g id=\"node6\" class=\"node\">\n<title>4580682912</title>\n<polygon fill=\"#b3cde3\" stroke=\"black\" points=\"326.5,-240 183.5,-240 183.5,-202 326.5,-202 326.5,-240\"/>\n<text text-anchor=\"start\" x=\"191.5\" y=\"-224.8\" font-family=\"Times,serif\" font-size=\"14.00\">AverageDollarVolume:</text>\n<text text-anchor=\"start\" x=\"191.5\" y=\"-209.8\" font-family=\"Times,serif\" font-size=\"14.00\">  window_length: 60</text>\n</g>\n<!-- 6153723520&#45;&gt;4580682912 -->\n<g id=\"edge5\" class=\"edge\">\n<title>6153723520-&gt;4580682912</title>\n<path fill=\"none\" stroke=\"black\" d=\"M255,-275.81C255,-275.81 255,-251.77 255,-251.77\"/>\n<polygon fill=\"black\" stroke=\"black\" points=\"258.5,-251.77 255,-241.77 251.5,-251.77 258.5,-251.77\"/>\n</g>\n<!-- 6169959488 -->\n<g id=\"node4\" class=\"node\">\n<title>6169959488</title>\n<polygon fill=\"#fbb4ae\" stroke=\"black\" points=\"493.5,-329 346.5,-329 346.5,-276 493.5,-276 493.5,-329\"/>\n<text text-anchor=\"start\" x=\"354.5\" y=\"-313.8\" font-family=\"Times,serif\" font-size=\"14.00\">BoundColumn:</text>\n<text text-anchor=\"start\" x=\"354.5\" y=\"-298.8\" font-family=\"Times,serif\" font-size=\"14.00\">  Dataset: EquityPricing</text>\n<text text-anchor=\"start\" x=\"354.5\" y=\"-283.8\" font-family=\"Times,serif\" font-size=\"14.00\">  Column: close</text>\n</g>\n<!-- 6169959488&#45;&gt;6170807696 -->\n<g id=\"edge1\" class=\"edge\">\n<title>6169959488-&gt;6170807696</title>\n<path fill=\"none\" stroke=\"black\" d=\"M419,-275.87C419,-275.87 419,-88.8 419,-88.8\"/>\n<polygon fill=\"black\" stroke=\"black\" points=\"422.5,-88.8 419,-78.8 415.5,-88.8 422.5,-88.8\"/>\n</g>\n<!-- 6153721072 -->\n<g id=\"node5\" class=\"node\">\n<title>6153721072</title>\n<polygon fill=\"#fbb4ae\" stroke=\"black\" points=\"163.5,-329 16.5,-329 16.5,-276 163.5,-276 163.5,-329\"/>\n<text text-anchor=\"start\" x=\"24.5\" y=\"-313.8\" font-family=\"Times,serif\" font-size=\"14.00\">BoundColumn:</text>\n<text text-anchor=\"start\" x=\"24.5\" y=\"-298.8\" font-family=\"Times,serif\" font-size=\"14.00\">  Dataset: EquityPricing</text>\n<text text-anchor=\"start\" x=\"24.5\" y=\"-283.8\" font-family=\"Times,serif\" font-size=\"14.00\">  Column: close</text>\n</g>\n<!-- 6153721072&#45;&gt;4580682912 -->\n<g id=\"edge4\" class=\"edge\">\n<title>6153721072-&gt;4580682912</title>\n<path fill=\"none\" stroke=\"black\" d=\"M90,-275.81C90,-252.05 90,-221 90,-221 90,-221 171.6,-221 171.6,-221\"/>\n<polygon fill=\"black\" stroke=\"black\" points=\"171.6,-224.5 181.6,-221 171.6,-217.5 171.6,-224.5\"/>\n</g>\n<!-- 6169771696 -->\n<g id=\"node7\" class=\"node\">\n<title>6169771696</title>\n<polygon fill=\"#b3cde3\" stroke=\"black\" points=\"319.5,-166 196.5,-166 196.5,-113 319.5,-113 319.5,-166\"/>\n<text text-anchor=\"start\" x=\"204.5\" y=\"-150.8\" font-family=\"Times,serif\" font-size=\"14.00\">Rank:</text>\n<text text-anchor=\"start\" x=\"204.5\" y=\"-135.8\" font-family=\"Times,serif\" font-size=\"14.00\">  method: 'ordinal'</text>\n<text text-anchor=\"start\" x=\"204.5\" y=\"-120.8\" font-family=\"Times,serif\" font-size=\"14.00\">  mask: AssetExists</text>\n</g>\n<!-- 4580682912&#45;&gt;6169771696 -->\n<g id=\"edge3\" class=\"edge\">\n<title>4580682912-&gt;6169771696</title>\n<path fill=\"none\" stroke=\"black\" d=\"M258,-201.69C258,-201.69 258,-177.9 258,-177.9\"/>\n<polygon fill=\"black\" stroke=\"black\" points=\"261.5,-177.9 258,-167.9 254.5,-177.9 261.5,-177.9\"/>\n</g>\n<!-- 6169771696&#45;&gt;6169770736 -->\n<g id=\"edge2\" class=\"edge\">\n<title>6169771696-&gt;6169770736</title>\n<path fill=\"none\" stroke=\"black\" d=\"M258,-112.81C258,-112.81 258,-88.77 258,-88.77\"/>\n<polygon fill=\"black\" stroke=\"black\" points=\"261.5,-88.77 258,-78.77 254.5,-88.77 261.5,-88.77\"/>\n</g>\n</g>\n</svg>",
      "text/plain": [
       "<IPython.core.display.SVG object>"
      ]
     },
     "execution_count": 14,
     "metadata": {},
     "output_type": "execute_result"
    }
   ],
   "source": [
    "from zipline.pipeline.factors import SimpleMovingAverage\n",
    "\n",
    "# Create a factor that computes the 15-day mean closing price of securities\n",
    "mean_close_15 = SimpleMovingAverage(inputs = [USEquityPricing.close], window_length = 15)\n",
    "\n",
    "# Add the factor to our pipeline\n",
    "pipeline.add(mean_close_15, '15 Day MCP')\n",
    "\n",
    "# Render the pipeline as a DAG\n",
    "pipeline.show_graph()"
   ]
  },
  {
   "cell_type": "markdown",
   "metadata": {},
   "source": [
    "In the diagram above we can clearly see the factor we have added. Now, we can run our pipeline again and see its output. The pipeline is run in exactly the same way we did before. "
   ]
  },
  {
   "cell_type": "code",
   "execution_count": 15,
   "metadata": {},
   "outputs": [
    {
     "data": {
      "text/html": [
       "<div>\n",
       "<style scoped>\n",
       "    .dataframe tbody tr th:only-of-type {\n",
       "        vertical-align: middle;\n",
       "    }\n",
       "\n",
       "    .dataframe tbody tr th {\n",
       "        vertical-align: top;\n",
       "    }\n",
       "\n",
       "    .dataframe thead th {\n",
       "        text-align: right;\n",
       "    }\n",
       "</style>\n",
       "<table border=\"1\" class=\"dataframe\">\n",
       "  <thead>\n",
       "    <tr style=\"text-align: right;\">\n",
       "      <th></th>\n",
       "      <th></th>\n",
       "      <th>15 Day MCP</th>\n",
       "    </tr>\n",
       "  </thead>\n",
       "  <tbody>\n",
       "    <tr>\n",
       "      <th rowspan=\"5\" valign=\"top\">2014-01-06</th>\n",
       "      <th>Equity(0 [AAPL])</th>\n",
       "      <td>19.864467</td>\n",
       "    </tr>\n",
       "    <tr>\n",
       "      <th>Equity(11 [AMZN])</th>\n",
       "      <td>19.755400</td>\n",
       "    </tr>\n",
       "    <tr>\n",
       "      <th>Equity(27 [CSCO])</th>\n",
       "      <td>21.419333</td>\n",
       "    </tr>\n",
       "    <tr>\n",
       "      <th>Equity(45 [GOOG])</th>\n",
       "      <td>27.324667</td>\n",
       "    </tr>\n",
       "    <tr>\n",
       "      <th>Equity(46 [GOOGL])</th>\n",
       "      <td>27.454533</td>\n",
       "    </tr>\n",
       "  </tbody>\n",
       "</table>\n",
       "</div>"
      ],
      "text/plain": [
       "                               15 Day MCP\n",
       "2014-01-06 Equity(0 [AAPL])     19.864467\n",
       "           Equity(11 [AMZN])    19.755400\n",
       "           Equity(27 [CSCO])    21.419333\n",
       "           Equity(45 [GOOG])    27.324667\n",
       "           Equity(46 [GOOGL])   27.454533"
      ]
     },
     "execution_count": 15,
     "metadata": {},
     "output_type": "execute_result"
    }
   ],
   "source": [
    "# Set starting and end dates\n",
    "start_date = pd.Timestamp('2014-01-06', tz='utc')\n",
    "end_date = pd.Timestamp('2023-01-05', tz='utc')\n",
    "\n",
    "# Run our pipeline for the given start and end dates\n",
    "output = engine.run_pipeline(pipeline, start_date, end_date)\n",
    "\n",
    "# Display the pipeline output\n",
    "output.head()"
   ]
  },
  {
   "cell_type": "markdown",
   "metadata": {},
   "source": [
    "We can see that now our output dataframe contains a column with the name `15 Day MCP`, which is the name we gave to our factor before. This ouput dataframe from our pipeline gives us the 15-day mean closing price of the securities that passed our `screen`.\n",
    "\n",
    "### Filters\n",
    "\n",
    "Filters are created and added to the pipeline in the same way as factors. In the code below, we create a filter that returns `True` whenever the 15-day average closing price is above \\$100. Remember, a filter produces a `True` or `False` value for each security every day. We will then add this filter to our pipeline and use `.show_graph()` to see a diagram of our pipeline with the filter added."
   ]
  },
  {
   "cell_type": "code",
   "execution_count": 16,
   "metadata": {},
   "outputs": [
    {
     "data": {
      "image/svg+xml": "<svg xmlns=\"http://www.w3.org/2000/svg\" xmlns:xlink=\"http://www.w3.org/1999/xlink\" width=\"518pt\" height=\"450pt\" viewBox=\"0.00 0.00 518.00 450.00\">\n<g id=\"graph0\" class=\"graph\" transform=\"scale(1 1) rotate(0) translate(4 446)\">\n<title>G</title>\n<polygon fill=\"white\" stroke=\"none\" points=\"-4,4 -4,-446 514,-446 514,4 -4,4\"/>\n<g id=\"clust1\" class=\"cluster\">\n<title>cluster_Output</title>\n<polygon fill=\"#ffec8b\" stroke=\"#ffec8b\" points=\"185,-8 185,-159 500,-159 500,-8 185,-8\"/>\n<text text-anchor=\"middle\" x=\"342.5\" y=\"-15.8\" font-family=\"Times,serif\" font-size=\"14.00\">Output</text>\n</g>\n<g id=\"clust2\" class=\"cluster\">\n<title>cluster_Input</title>\n<polygon fill=\"#ffec8b\" stroke=\"#ffec8b\" points=\"8,-342 8,-434 502,-434 502,-342 8,-342\"/>\n<text text-anchor=\"middle\" x=\"255\" y=\"-418.8\" font-family=\"Times,serif\" font-size=\"14.00\">Input</text>\n</g>\n<!-- 6170807696 -->\n<g id=\"node1\" class=\"node\">\n<title>6170807696</title>\n<polygon fill=\"#b3cde3\" stroke=\"black\" points=\"491.5,-151 342.5,-151 342.5,-113 491.5,-113 491.5,-151\"/>\n<text text-anchor=\"start\" x=\"350.5\" y=\"-135.8\" font-family=\"Times,serif\" font-size=\"14.00\">SimpleMovingAverage:</text>\n<text text-anchor=\"start\" x=\"350.5\" y=\"-120.8\" font-family=\"Times,serif\" font-size=\"14.00\">  window_length: 15</text>\n</g>\n<!-- 6170808080 -->\n<g id=\"node2\" class=\"node\">\n<title>6170808080</title>\n<polygon fill=\"#ccebc5\" stroke=\"black\" points=\"478.5,-77 355.5,-77 355.5,-39 478.5,-39 478.5,-77\"/>\n<text text-anchor=\"start\" x=\"363.5\" y=\"-61.8\" font-family=\"Times,serif\" font-size=\"14.00\">Expression:</text>\n<text text-anchor=\"start\" x=\"363.5\" y=\"-46.8\" font-family=\"Times,serif\" font-size=\"14.00\">  x_0 &gt; (1.00E+02)</text>\n</g>\n<!-- 6170807696&#45;&gt;6170808080 -->\n<g id=\"edge1\" class=\"edge\">\n<title>6170807696-&gt;6170808080</title>\n<path fill=\"none\" stroke=\"black\" d=\"M417,-112.56C417,-112.56 417,-88.83 417,-88.83\"/>\n<polygon fill=\"black\" stroke=\"black\" points=\"420.5,-88.83 417,-78.83 413.5,-88.83 420.5,-88.83\"/>\n</g>\n<!-- 6169770736 -->\n<g id=\"node3\" class=\"node\">\n<title>6169770736</title>\n<polygon fill=\"#ccebc5\" stroke=\"black\" points=\"324.5,-151 193.5,-151 193.5,-113 324.5,-113 324.5,-151\"/>\n<text text-anchor=\"start\" x=\"201.5\" y=\"-135.8\" font-family=\"Times,serif\" font-size=\"14.00\">Expression:</text>\n<text text-anchor=\"start\" x=\"201.5\" y=\"-120.8\" font-family=\"Times,serif\" font-size=\"14.00\">  x_0 &lt;= (1.00E+01)</text>\n</g>\n<!-- 6153723520 -->\n<g id=\"node4\" class=\"node\">\n<title>6153723520</title>\n<polygon fill=\"#fbb4ae\" stroke=\"black\" points=\"328.5,-403 181.5,-403 181.5,-350 328.5,-350 328.5,-403\"/>\n<text text-anchor=\"start\" x=\"189.5\" y=\"-387.8\" font-family=\"Times,serif\" font-size=\"14.00\">BoundColumn:</text>\n<text text-anchor=\"start\" x=\"189.5\" y=\"-372.8\" font-family=\"Times,serif\" font-size=\"14.00\">  Dataset: EquityPricing</text>\n<text text-anchor=\"start\" x=\"189.5\" y=\"-357.8\" font-family=\"Times,serif\" font-size=\"14.00\">  Column: volume</text>\n</g>\n<!-- 4580682912 -->\n<g id=\"node7\" class=\"node\">\n<title>4580682912</title>\n<polygon fill=\"#b3cde3\" stroke=\"black\" points=\"326.5,-314 183.5,-314 183.5,-276 326.5,-276 326.5,-314\"/>\n<text text-anchor=\"start\" x=\"191.5\" y=\"-298.8\" font-family=\"Times,serif\" font-size=\"14.00\">AverageDollarVolume:</text>\n<text text-anchor=\"start\" x=\"191.5\" y=\"-283.8\" font-family=\"Times,serif\" font-size=\"14.00\">  window_length: 60</text>\n</g>\n<!-- 6153723520&#45;&gt;4580682912 -->\n<g id=\"edge6\" class=\"edge\">\n<title>6153723520-&gt;4580682912</title>\n<path fill=\"none\" stroke=\"black\" d=\"M255,-349.81C255,-349.81 255,-325.77 255,-325.77\"/>\n<polygon fill=\"black\" stroke=\"black\" points=\"258.5,-325.77 255,-315.77 251.5,-325.77 258.5,-325.77\"/>\n</g>\n<!-- 6169959488 -->\n<g id=\"node5\" class=\"node\">\n<title>6169959488</title>\n<polygon fill=\"#fbb4ae\" stroke=\"black\" points=\"493.5,-403 346.5,-403 346.5,-350 493.5,-350 493.5,-403\"/>\n<text text-anchor=\"start\" x=\"354.5\" y=\"-387.8\" font-family=\"Times,serif\" font-size=\"14.00\">BoundColumn:</text>\n<text text-anchor=\"start\" x=\"354.5\" y=\"-372.8\" font-family=\"Times,serif\" font-size=\"14.00\">  Dataset: EquityPricing</text>\n<text text-anchor=\"start\" x=\"354.5\" y=\"-357.8\" font-family=\"Times,serif\" font-size=\"14.00\">  Column: close</text>\n</g>\n<!-- 6169959488&#45;&gt;6170807696 -->\n<g id=\"edge2\" class=\"edge\">\n<title>6169959488-&gt;6170807696</title>\n<path fill=\"none\" stroke=\"black\" d=\"M419,-349.87C419,-349.87 419,-162.8 419,-162.8\"/>\n<polygon fill=\"black\" stroke=\"black\" points=\"422.5,-162.8 419,-152.8 415.5,-162.8 422.5,-162.8\"/>\n</g>\n<!-- 6153721072 -->\n<g id=\"node6\" class=\"node\">\n<title>6153721072</title>\n<polygon fill=\"#fbb4ae\" stroke=\"black\" points=\"163.5,-403 16.5,-403 16.5,-350 163.5,-350 163.5,-403\"/>\n<text text-anchor=\"start\" x=\"24.5\" y=\"-387.8\" font-family=\"Times,serif\" font-size=\"14.00\">BoundColumn:</text>\n<text text-anchor=\"start\" x=\"24.5\" y=\"-372.8\" font-family=\"Times,serif\" font-size=\"14.00\">  Dataset: EquityPricing</text>\n<text text-anchor=\"start\" x=\"24.5\" y=\"-357.8\" font-family=\"Times,serif\" font-size=\"14.00\">  Column: close</text>\n</g>\n<!-- 6153721072&#45;&gt;4580682912 -->\n<g id=\"edge5\" class=\"edge\">\n<title>6153721072-&gt;4580682912</title>\n<path fill=\"none\" stroke=\"black\" d=\"M90,-349.81C90,-326.05 90,-295 90,-295 90,-295 171.6,-295 171.6,-295\"/>\n<polygon fill=\"black\" stroke=\"black\" points=\"171.6,-298.5 181.6,-295 171.6,-291.5 171.6,-298.5\"/>\n</g>\n<!-- 6169771696 -->\n<g id=\"node8\" class=\"node\">\n<title>6169771696</title>\n<polygon fill=\"#b3cde3\" stroke=\"black\" points=\"319.5,-240 196.5,-240 196.5,-187 319.5,-187 319.5,-240\"/>\n<text text-anchor=\"start\" x=\"204.5\" y=\"-224.8\" font-family=\"Times,serif\" font-size=\"14.00\">Rank:</text>\n<text text-anchor=\"start\" x=\"204.5\" y=\"-209.8\" font-family=\"Times,serif\" font-size=\"14.00\">  method: 'ordinal'</text>\n<text text-anchor=\"start\" x=\"204.5\" y=\"-194.8\" font-family=\"Times,serif\" font-size=\"14.00\">  mask: AssetExists</text>\n</g>\n<!-- 4580682912&#45;&gt;6169771696 -->\n<g id=\"edge4\" class=\"edge\">\n<title>4580682912-&gt;6169771696</title>\n<path fill=\"none\" stroke=\"black\" d=\"M258,-275.69C258,-275.69 258,-251.9 258,-251.9\"/>\n<polygon fill=\"black\" stroke=\"black\" points=\"261.5,-251.9 258,-241.9 254.5,-251.9 261.5,-251.9\"/>\n</g>\n<!-- 6169771696&#45;&gt;6169770736 -->\n<g id=\"edge3\" class=\"edge\">\n<title>6169771696-&gt;6169770736</title>\n<path fill=\"none\" stroke=\"black\" d=\"M258,-186.81C258,-186.81 258,-162.77 258,-162.77\"/>\n<polygon fill=\"black\" stroke=\"black\" points=\"261.5,-162.77 258,-152.77 254.5,-162.77 261.5,-162.77\"/>\n</g>\n</g>\n</svg>",
      "text/plain": [
       "<IPython.core.display.SVG object>"
      ]
     },
     "execution_count": 16,
     "metadata": {},
     "output_type": "execute_result"
    }
   ],
   "source": [
    "# Create a Filter that returns True whenever the 15-day average closing price is above $100\n",
    "high_mean = mean_close_15 > 100\n",
    "\n",
    "# Add the filter to our pipeline\n",
    "pipeline.add(high_mean, 'High Mean')\n",
    "\n",
    "# Render the pipeline as a DAG\n",
    "pipeline.show_graph()"
   ]
  },
  {
   "cell_type": "markdown",
   "metadata": {},
   "source": [
    "In the diagram above we can clearly see the fiter we have added. Now, we can run our pipeline again and see its output. The pipeline is run in exactly the same way we did before. "
   ]
  },
  {
   "cell_type": "code",
   "execution_count": 17,
   "metadata": {},
   "outputs": [
    {
     "data": {
      "text/html": [
       "<div>\n",
       "<style scoped>\n",
       "    .dataframe tbody tr th:only-of-type {\n",
       "        vertical-align: middle;\n",
       "    }\n",
       "\n",
       "    .dataframe tbody tr th {\n",
       "        vertical-align: top;\n",
       "    }\n",
       "\n",
       "    .dataframe thead th {\n",
       "        text-align: right;\n",
       "    }\n",
       "</style>\n",
       "<table border=\"1\" class=\"dataframe\">\n",
       "  <thead>\n",
       "    <tr style=\"text-align: right;\">\n",
       "      <th></th>\n",
       "      <th></th>\n",
       "      <th>15 Day MCP</th>\n",
       "      <th>High Mean</th>\n",
       "    </tr>\n",
       "  </thead>\n",
       "  <tbody>\n",
       "    <tr>\n",
       "      <th rowspan=\"5\" valign=\"top\">2014-01-06</th>\n",
       "      <th>Equity(0 [AAPL])</th>\n",
       "      <td>19.864467</td>\n",
       "      <td>False</td>\n",
       "    </tr>\n",
       "    <tr>\n",
       "      <th>Equity(11 [AMZN])</th>\n",
       "      <td>19.755400</td>\n",
       "      <td>False</td>\n",
       "    </tr>\n",
       "    <tr>\n",
       "      <th>Equity(27 [CSCO])</th>\n",
       "      <td>21.419333</td>\n",
       "      <td>False</td>\n",
       "    </tr>\n",
       "    <tr>\n",
       "      <th>Equity(45 [GOOG])</th>\n",
       "      <td>27.324667</td>\n",
       "      <td>False</td>\n",
       "    </tr>\n",
       "    <tr>\n",
       "      <th>Equity(46 [GOOGL])</th>\n",
       "      <td>27.454533</td>\n",
       "      <td>False</td>\n",
       "    </tr>\n",
       "  </tbody>\n",
       "</table>\n",
       "</div>"
      ],
      "text/plain": [
       "                               15 Day MCP  High Mean\n",
       "2014-01-06 Equity(0 [AAPL])     19.864467      False\n",
       "           Equity(11 [AMZN])    19.755400      False\n",
       "           Equity(27 [CSCO])    21.419333      False\n",
       "           Equity(45 [GOOG])    27.324667      False\n",
       "           Equity(46 [GOOGL])   27.454533      False"
      ]
     },
     "execution_count": 17,
     "metadata": {},
     "output_type": "execute_result"
    }
   ],
   "source": [
    "# Set starting and end dates\n",
    "start_date = pd.Timestamp('2014-01-06', tz='utc')\n",
    "end_date = pd.Timestamp('2023-01-05', tz='utc')\n",
    "\n",
    "# Run our pipeline for the given start and end dates\n",
    "output = engine.run_pipeline(pipeline, start_date, end_date)\n",
    "\n",
    "# Display the pipeline output\n",
    "output.head()"
   ]
  },
  {
   "cell_type": "markdown",
   "metadata": {},
   "source": [
    "We can see that now our output dataframe contains a two columns, one for the filter and one for the factor. The new column has the name `High Mean`, which is the name we gave to our filter before. Notice that the filter column only contains Boolean values, where only the securities with a 15-day average closing price above \\$100 have `True` values."
   ]
  }
 ],
 "metadata": {
  "kernelspec": {
   "display_name": "zip39",
   "language": "python",
   "name": "python3"
  },
  "language_info": {
   "codemirror_mode": {
    "name": "ipython",
    "version": 3
   },
   "file_extension": ".py",
   "mimetype": "text/x-python",
   "name": "python",
   "nbconvert_exporter": "python",
   "pygments_lexer": "ipython3",
   "version": "3.9.16"
  },
  "orig_nbformat": 4,
  "vscode": {
   "interpreter": {
    "hash": "e6b15f53b134105f340d3a370e7f28e5f161b18f10443b548acbc587a2020db1"
   }
  }
 },
 "nbformat": 4,
 "nbformat_minor": 2
}
