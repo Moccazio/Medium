{
 "cells": [
  {
   "cell_type": "code",
   "execution_count": 7,
   "id": "2ceb53a9",
   "metadata": {},
   "outputs": [
    {
     "name": "stdout",
     "output_type": "stream",
     "text": [
      "# root zipline-trade\n"
     ]
    }
   ],
   "source": [
    "import os\n",
    "os.environ['ZIPLINE_ROOT'] = os.path.join(os.getcwd(), '.zipline')\n",
    "os.listdir(os.environ['ZIPLINE_ROOT'])\n",
    "os.environ['ZIPLINE_TRADER_CONFIG'] = os.path.join(os.getcwd(), \"./alpaca.yaml\")\n",
    "\n",
    "with open(os.environ['ZIPLINE_TRADER_CONFIG'], 'r') as f:\n",
    "    data = f.read()\n",
    "    print(data[:20])"
   ]
  },
  {
   "cell_type": "code",
   "execution_count": 8,
   "id": "cfe0f4bb",
   "metadata": {},
   "outputs": [],
   "source": [
    "# load the yaml file into notebook \n",
    "# check if it is ok so we can connect to api\n",
    "# !cat alpaca.yaml"
   ]
  },
  {
   "cell_type": "markdown",
   "id": "95aeaebd",
   "metadata": {},
   "source": [
    "# Ingest Bundle "
   ]
  },
  {
   "cell_type": "code",
   "execution_count": 9,
   "id": "50823be3",
   "metadata": {},
   "outputs": [
    {
     "name": "stdout",
     "output_type": "stream",
     "text": [
      "zipline-trader/zipline/data/bundles/alpaca_api.py:278: UserWarning: Overwriting bundle with name 'alpaca_api'\n",
      "  def api_to_bundle(interval=['1m']):\n",
      "zipline-trader/zipline/data/bundles/alpaca_api.py:355: UserWarning: Overwriting bundle with name 'alpaca_api'\n",
      "  end_session=end_date\n",
      "\u001b[?25lMerging daily equity files:  [####################################]       \u001b[?25h\n",
      "       symbol                 start_date  ... exchange asset_name\n",
      "sid                                       ...                    \n",
      "1        ACXP  2019-12-30 00:00:00+00:00  ...     NYSE       None\n",
      "4        AEFC  2019-12-30 00:00:00+00:00  ...     NYSE       None\n",
      "5       AGNCN  2019-12-30 00:00:00+00:00  ...     NYSE       None\n",
      "7        ALGT  2019-12-30 00:00:00+00:00  ...     NYSE       None\n",
      "8        APGB  2019-12-30 00:00:00+00:00  ...     NYSE       None\n",
      "...       ...                        ...  ...      ...        ...\n",
      "29771    VNTR  2019-12-30 00:00:00+00:00  ...     NYSE       None\n",
      "29773  VYGG.U  2019-12-30 00:00:00+00:00  ...     NYSE       None\n",
      "29774    WALA  2019-12-30 00:00:00+00:00  ...     NYSE       None\n",
      "29775    WRLD  2019-12-30 00:00:00+00:00  ...     NYSE       None\n",
      "29776    XMHQ  2019-12-30 00:00:00+00:00  ...     NYSE       None\n",
      "\n",
      "[11520 rows x 7 columns]\n",
      "--- It took 1:50:53.893241 ---\n"
     ]
    }
   ],
   "source": [
    "# alpaca_api bundle \n",
    "# start date is: 2015-12-31\n",
    "# to adjust the start date go to the alpaca_api.py file \n",
    "# to adjust the universe go to the yaml file\n",
    "!python zipline-trader/zipline/data/bundles/alpaca_api.py -f"
   ]
  },
  {
   "cell_type": "markdown",
   "id": "9bfe7324",
   "metadata": {},
   "source": [
    "# Load your Bundle"
   ]
  },
  {
   "cell_type": "code",
   "execution_count": 10,
   "id": "54066962",
   "metadata": {},
   "outputs": [],
   "source": [
    "import zipline\n",
    "from zipline.data import bundles\n",
    "\n",
    "bundle_name = 'alpaca_api'\n",
    "bundle_data = bundles.load(bundle_name)"
   ]
  },
  {
   "cell_type": "markdown",
   "id": "3d10c987",
   "metadata": {},
   "source": [
    "# Create The Data Portal"
   ]
  },
  {
   "cell_type": "code",
   "execution_count": 11,
   "id": "c7cb7453",
   "metadata": {},
   "outputs": [],
   "source": [
    "from zipline.pipeline.loaders import USEquityPricingLoader\n",
    "from zipline.utils.calendars import get_calendar\n",
    "from zipline.pipeline.data import USEquityPricing\n",
    "from zipline.data.data_portal import DataPortal\n",
    "\n",
    "import pandas as pd\n",
    "\n",
    "# Set the dataloader\n",
    "pricing_loader = USEquityPricingLoader.without_fx(bundle_data.equity_daily_bar_reader, bundle_data.adjustment_reader)\n",
    "\n",
    "\n",
    "# Define the function for the get_loader parameter\n",
    "def choose_loader(column):\n",
    "    if column not in USEquityPricing.columns:\n",
    "        raise Exception('Column not in USEquityPricing')\n",
    "    return pricing_loader\n",
    "\n",
    "# Set the trading calendar\n",
    "trading_calendar = get_calendar('NYSE')\n",
    "\n",
    "start_date = pd.Timestamp('2019-11-11', tz='utc')\n",
    "end_date = pd.Timestamp('2021-12-23', tz='utc')\n",
    "\n",
    "# Create a data portal\n",
    "data_portal = DataPortal(bundle_data.asset_finder,\n",
    "                         trading_calendar = trading_calendar,\n",
    "                         first_trading_day = start_date,\n",
    "                         equity_daily_reader = bundle_data.equity_daily_bar_reader,\n",
    "                         adjustment_reader = bundle_data.adjustment_reader)"
   ]
  },
  {
   "cell_type": "markdown",
   "id": "8cde0fe1",
   "metadata": {},
   "source": [
    "# Get Some Historical Data"
   ]
  },
  {
   "cell_type": "code",
   "execution_count": 12,
   "id": "1da9c69d",
   "metadata": {},
   "outputs": [
    {
     "data": {
      "text/html": [
       "<div>\n",
       "<style scoped>\n",
       "    .dataframe tbody tr th:only-of-type {\n",
       "        vertical-align: middle;\n",
       "    }\n",
       "\n",
       "    .dataframe tbody tr th {\n",
       "        vertical-align: top;\n",
       "    }\n",
       "\n",
       "    .dataframe thead th {\n",
       "        text-align: right;\n",
       "    }\n",
       "</style>\n",
       "<table border=\"1\" class=\"dataframe\">\n",
       "  <thead>\n",
       "    <tr style=\"text-align: right;\">\n",
       "      <th></th>\n",
       "      <th>Equity(6000 [AAPL])</th>\n",
       "    </tr>\n",
       "  </thead>\n",
       "  <tbody>\n",
       "    <tr>\n",
       "      <th>2021-08-04 00:00:00+00:00</th>\n",
       "      <td>146.94</td>\n",
       "    </tr>\n",
       "    <tr>\n",
       "      <th>2021-08-05 00:00:00+00:00</th>\n",
       "      <td>147.06</td>\n",
       "    </tr>\n",
       "    <tr>\n",
       "      <th>2021-08-06 00:00:00+00:00</th>\n",
       "      <td>146.14</td>\n",
       "    </tr>\n",
       "    <tr>\n",
       "      <th>2021-08-09 00:00:00+00:00</th>\n",
       "      <td>146.09</td>\n",
       "    </tr>\n",
       "    <tr>\n",
       "      <th>2021-08-10 00:00:00+00:00</th>\n",
       "      <td>145.61</td>\n",
       "    </tr>\n",
       "    <tr>\n",
       "      <th>...</th>\n",
       "      <td>...</td>\n",
       "    </tr>\n",
       "    <tr>\n",
       "      <th>2021-12-17 00:00:00+00:00</th>\n",
       "      <td>170.86</td>\n",
       "    </tr>\n",
       "    <tr>\n",
       "      <th>2021-12-20 00:00:00+00:00</th>\n",
       "      <td>169.88</td>\n",
       "    </tr>\n",
       "    <tr>\n",
       "      <th>2021-12-21 00:00:00+00:00</th>\n",
       "      <td>172.98</td>\n",
       "    </tr>\n",
       "    <tr>\n",
       "      <th>2021-12-22 00:00:00+00:00</th>\n",
       "      <td>175.63</td>\n",
       "    </tr>\n",
       "    <tr>\n",
       "      <th>2021-12-23 00:00:00+00:00</th>\n",
       "      <td>175.63</td>\n",
       "    </tr>\n",
       "  </tbody>\n",
       "</table>\n",
       "<p>100 rows × 1 columns</p>\n",
       "</div>"
      ],
      "text/plain": [
       "                           Equity(6000 [AAPL])\n",
       "2021-08-04 00:00:00+00:00               146.94\n",
       "2021-08-05 00:00:00+00:00               147.06\n",
       "2021-08-06 00:00:00+00:00               146.14\n",
       "2021-08-09 00:00:00+00:00               146.09\n",
       "2021-08-10 00:00:00+00:00               145.61\n",
       "...                                        ...\n",
       "2021-12-17 00:00:00+00:00               170.86\n",
       "2021-12-20 00:00:00+00:00               169.88\n",
       "2021-12-21 00:00:00+00:00               172.98\n",
       "2021-12-22 00:00:00+00:00               175.63\n",
       "2021-12-23 00:00:00+00:00               175.63\n",
       "\n",
       "[100 rows x 1 columns]"
      ]
     },
     "execution_count": 12,
     "metadata": {},
     "output_type": "execute_result"
    }
   ],
   "source": [
    "equity = bundle_data.asset_finder.lookup_symbol(\"AAPL\", end_date)\n",
    "data_portal.get_history_window(assets=[equity], end_dt=end_date, bar_count=100,\n",
    "                               frequency='1d',\n",
    "                               field='close',\n",
    "                               data_frequency='daily')\n"
   ]
  },
  {
   "cell_type": "code",
   "execution_count": null,
   "id": "e08d04fa",
   "metadata": {},
   "outputs": [],
   "source": []
  }
 ],
 "metadata": {
  "interpreter": {
   "hash": "f306cfc0cd858d370e77d0397b3770bbec7fd12a4fdb2b66872830321fa3c241"
  },
  "kernelspec": {
   "display_name": "zipline-trader",
   "language": "python",
   "name": "python3"
  },
  "language_info": {
   "codemirror_mode": {
    "name": "ipython",
    "version": 3
   },
   "file_extension": ".py",
   "mimetype": "text/x-python",
   "name": "python",
   "nbconvert_exporter": "python",
   "pygments_lexer": "ipython3",
   "version": "3.6.10"
  },
  "widgets": {
   "application/vnd.jupyter.widget-state+json": {
    "state": {},
    "version_major": 2,
    "version_minor": 0
   }
  }
 },
 "nbformat": 4,
 "nbformat_minor": 5
}
